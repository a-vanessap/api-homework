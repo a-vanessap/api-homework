{
 "cells": [
  {
   "cell_type": "code",
   "execution_count": null,
   "id": "ed91bb88-1a40-40b0-8c79-9517be4eacdc",
   "metadata": {},
   "outputs": [],
   "source": [
    "# Chose Open Meteo because it didn't require an API key and seemed more accessible. "
   ]
  },
  {
   "cell_type": "code",
   "execution_count": 4,
   "id": "14b6427c-9e9a-4f31-a5cd-14532d6921e7",
   "metadata": {},
   "outputs": [],
   "source": [
    "# What is the URL to the documentation?\n",
    "# https://open-meteo.com/en/docs"
   ]
  },
  {
   "cell_type": "code",
   "execution_count": 28,
   "id": "6e9f25ac-8a9d-4290-8078-123e8b367abe",
   "metadata": {},
   "outputs": [
    {
     "name": "stdout",
     "output_type": "stream",
     "text": [
      "Current temperature is 80.51°F.\n"
     ]
    }
   ],
   "source": [
    "# Make a request for the current weather where you are born, or somewhere you've lived.\n",
    "import openmeteo_requests\n",
    "import requests_cache\n",
    "from retry_requests import retry\n",
    "\n",
    "cache_session = requests_cache.CachedSession('.cache', expire_after = 3600)\n",
    "retry_session = retry(cache_session, retries = 5, backoff_factor = 0.2)\n",
    "openmeteo = openmeteo_requests.Client(session = retry_session)\n",
    "\n",
    "url = \"https://api.open-meteo.com/v1/forecast\"\n",
    "params = {\n",
    "\t\"latitude\": 18.3986,\n",
    "\t\"longitude\": -66.1557,\n",
    "\t\"current\": \"temperature_2m\",\n",
    "\t\"timezone\": \"auto\",\n",
    "\t\"timeformat\": \"unixtime\",\n",
    "\t\"wind_speed_unit\": \"mph\",\n",
    "\t\"temperature_unit\": \"fahrenheit\",\n",
    "\t\"precipitation_unit\": \"inch\"\n",
    "}\n",
    "responses = openmeteo.weather_api(url, params=params)\n",
    "\n",
    "response = responses[0]\n",
    "\n",
    "current = response.Current()\n",
    "current_temperature_2m = current.Variables(0).Value()\n",
    "\n",
    "print(f\"Current temperature is {current_temperature_2m:.2f}°F.\")"
   ]
  },
  {
   "cell_type": "code",
   "execution_count": 29,
   "id": "347a87dd-5781-40ad-86c8-f8f1b1de8167",
   "metadata": {},
   "outputs": [],
   "source": [
    "# Print out the country this location is in.\n",
    "# ???"
   ]
  },
  {
   "cell_type": "code",
   "execution_count": 38,
   "id": "f30baf29-6d07-4881-a6af-acc747408801",
   "metadata": {},
   "outputs": [
    {
     "name": "stdout",
     "output_type": "stream",
     "text": [
      "It feels 6.36 cooler.\n"
     ]
    }
   ],
   "source": [
    "# Print out the difference between the current temperature and how warm it feels.\n",
    "url = \"https://api.open-meteo.com/v1/forecast\"\n",
    "params = {\n",
    "\t\"latitude\": 18.3986,\n",
    "\t\"longitude\": -66.1557,\n",
    "\t\"current\": [\"temperature_2m\", \"apparent_temperature\"],\n",
    "\t\"timezone\": \"auto\",\n",
    "\t\"timeformat\": \"unixtime\",\n",
    "\t\"wind_speed_unit\": \"mph\",\n",
    "\t\"temperature_unit\": \"fahrenheit\",\n",
    "\t\"precipitation_unit\": \"inch\"\n",
    "}\n",
    "responses = openmeteo.weather_api(url, params=params)\n",
    "\n",
    "current = response.Current()\n",
    "current_temperature_2m = current.Variables(0).Value()\n",
    "current_apparent_temperature = current.Variables(1).Value()\n",
    "\n",
    "if current_temperature_2m > current_apparent_temperature:\n",
    "    diff= current_temperature_2m - current_apparent_temperature\n",
    "    print(f\"It feels {diff:.2f} hotter.\")\n",
    "elif current_apparent_temperature > current_temperature_2m:\n",
    "    diff= current_apparent_temperature - current_temperature_2m\n",
    "    print(f\"It feels {diff:.2f} cooler.\")\n",
    "else:\n",
    "    print(\"Current temperature and apparent temperature are the same.\")"
   ]
  },
  {
   "cell_type": "code",
   "execution_count": 39,
   "id": "dbd5b844-0c40-4d36-9e06-75d08857cd0c",
   "metadata": {},
   "outputs": [],
   "source": [
    "# What's the current temperature at Heathrow International Airport?"
   ]
  },
  {
   "cell_type": "code",
   "execution_count": 53,
   "id": "b2988e84-29c7-492d-ad74-ceadf90f2c9d",
   "metadata": {},
   "outputs": [
    {
     "name": "stdout",
     "output_type": "stream",
     "text": [
      "58.5\n"
     ]
    }
   ],
   "source": [
    "import requests\n",
    "response = requests.get (f\"https://api.open-meteo.com/v1/forecast?latitude=51.4712&longitude=-0.4565&current=temperature_2m&temperature_unit=fahrenheit\") \n",
    "data = response.json()\n",
    "print(data['current']['temperature_2m'])"
   ]
  },
  {
   "cell_type": "code",
   "execution_count": 55,
   "id": "0bb51d07-e287-468d-a574-533ea23e52f3",
   "metadata": {},
   "outputs": [],
   "source": [
    "#What URL would I use to request a 3-day forecast at Heathrow?\n",
    "#https://api.open-meteo.com/v1/forecast?latitude=51.4700&longitude=-0.4543&daily=temperature_2m_max,temperature_2m_min&timezone=auto&forecast_days=3"
   ]
  },
  {
   "cell_type": "code",
   "execution_count": 59,
   "id": "1071c7fa-5e3e-4d2e-aa3a-3af85fa8ea61",
   "metadata": {},
   "outputs": [
    {
     "name": "stdout",
     "output_type": "stream",
     "text": [
      "['2025-06-11', '2025-06-12', '2025-06-13']\n"
     ]
    }
   ],
   "source": [
    "# Print the date of each of the 3 days you're getting a forecast for.\n",
    "response = requests.get (f\"https://api.open-meteo.com/v1/forecast?latitude=51.4700&longitude=-0.4543&daily=temperature_2m_max,temperature_2m_min&timezone=auto&forecast_days=3\") \n",
    "data = response.json()\n",
    "print(data['daily']['time'])"
   ]
  },
  {
   "cell_type": "code",
   "execution_count": 75,
   "id": "ed44f032-8bdd-46fc-8f53-f211f3d8360b",
   "metadata": {},
   "outputs": [
    {
     "name": "stdout",
     "output_type": "stream",
     "text": [
      "2025-06-11 23.5\n",
      "2025-06-12 22.5\n",
      "2025-06-13 27.2\n"
     ]
    }
   ],
   "source": [
    "# Print the maximum temperature of each of the days.\n",
    "dates = data['daily']['time']\n",
    "temps = data['daily']['temperature_2m_max']\n",
    "\n",
    "for i in range(len(dates)):\n",
    "    print(dates[i], temps[i])"
   ]
  },
  {
   "cell_type": "code",
   "execution_count": 78,
   "id": "59940f72-87aa-4982-8053-b8e75650864e",
   "metadata": {},
   "outputs": [
    {
     "name": "stdout",
     "output_type": "stream",
     "text": [
      "2025-06-13 27.2\n"
     ]
    }
   ],
   "source": [
    "# Print only the day with the highest maximum temperature. \n",
    "max_temp = temps.index(max(temps))\n",
    "print(dates[max_temp], temps[max_temp])"
   ]
  },
  {
   "cell_type": "code",
   "execution_count": null,
   "id": "e5dcdbfb-30b0-411e-8e0d-6770ab1af17d",
   "metadata": {},
   "outputs": [],
   "source": [
    "# I found this more difficult than weatherapi.com. \n",
    "# I started by following the documentation for the code and it was way more complicated."
   ]
  }
 ],
 "metadata": {
  "kernelspec": {
   "display_name": "Python 3 (ipykernel)",
   "language": "python",
   "name": "python3"
  },
  "language_info": {
   "codemirror_mode": {
    "name": "ipython",
    "version": 3
   },
   "file_extension": ".py",
   "mimetype": "text/x-python",
   "name": "python",
   "nbconvert_exporter": "python",
   "pygments_lexer": "ipython3",
   "version": "3.12.3"
  }
 },
 "nbformat": 4,
 "nbformat_minor": 5
}
